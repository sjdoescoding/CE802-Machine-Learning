{
  "nbformat": 4,
  "nbformat_minor": 0,
  "metadata": {
    "colab": {
      "name": "CE802 Assignment.ipynb",
      "provenance": [],
      "collapsed_sections": [],
      "mount_file_id": "1glKFARJZX_NF316UaAvr7DJQcNEh75F8",
      "authorship_tag": "ABX9TyOiet3auHC9HTQVuqmpm48z",
      "include_colab_link": true
    },
    "kernelspec": {
      "name": "python3",
      "display_name": "Python 3"
    },
    "language_info": {
      "name": "python"
    }
  },
  "cells": [
    {
      "cell_type": "markdown",
      "metadata": {
        "id": "view-in-github",
        "colab_type": "text"
      },
      "source": [
        "<a href=\"https://colab.research.google.com/github/sjdoescoding/CE802-Assignment/blob/main/CE802_Assignment.ipynb\" target=\"_parent\"><img src=\"https://colab.research.google.com/assets/colab-badge.svg\" alt=\"Open In Colab\"/></a>"
      ]
    },
    {
      "cell_type": "markdown",
      "source": [
        "# CE802 - Comparative Study"
      ],
      "metadata": {
        "id": "xqEW_Qje-_9j"
      }
    },
    {
      "cell_type": "markdown",
      "source": [
        "# Part A"
      ],
      "metadata": {
        "id": "8tgyh0TS4xIl"
      }
    },
    {
      "cell_type": "markdown",
      "source": [
        "#Sections \n",
        "\n",
        "* Importing Libraries & Uploading the data\n",
        "* Exploratory Data Analysis\n",
        "* Feature Engineering / Preprocessing\n",
        "* Initial Prediction/Performance of ML Procedures\n",
        "* Prediction on a hold-out test set"
      ],
      "metadata": {
        "id": "dWNjavKgARci"
      }
    },
    {
      "cell_type": "code",
      "execution_count": 135,
      "metadata": {
        "id": "ujP0bDcK84dQ"
      },
      "outputs": [],
      "source": [
        "#Importing Libraries\n",
        "import pandas as pd\n",
        "import numpy as np\n",
        "import sklearn\n",
        "import matplotlib.pyplot as plt\n",
        "import seaborn as sns\n",
        "\n",
        "\n",
        "# Uploading the Dataset\n",
        "\n",
        "df = pd.read_csv(\"/content/CE802_P2_Data.csv\")\n",
        "\n"
      ]
    },
    {
      "cell_type": "markdown",
      "source": [
        "# Exploratory Data Analysis"
      ],
      "metadata": {
        "id": "c51ZSKpIBZSl"
      }
    },
    {
      "cell_type": "code",
      "source": [
        "# Getting the size of the dataset\n",
        "init_size = df.shape\n",
        "print(\"The initial size of the data: {}\".format(init_size), '\\n')\n",
        "\n",
        "# A look into the variables\n",
        "print(df.columns)"
      ],
      "metadata": {
        "colab": {
          "base_uri": "https://localhost:8080/"
        },
        "id": "Y824ugbS_iMF",
        "outputId": "01d2a4f8-9859-4b37-dfe2-f8cbcac7f082"
      },
      "execution_count": 136,
      "outputs": [
        {
          "output_type": "stream",
          "name": "stdout",
          "text": [
            "The initial size of the data: (1500, 16) \n",
            "\n",
            "Index(['F1', 'F2', 'F3', 'F4', 'F5', 'F6', 'F7', 'F8', 'F9', 'F10', 'F11',\n",
            "       'F12', 'F13', 'F14', 'F15', 'Class'],\n",
            "      dtype='object')\n"
          ]
        }
      ]
    },
    {
      "cell_type": "code",
      "source": [
        "# Initial look into the dataset\n",
        "df.head(5)"
      ],
      "metadata": {
        "colab": {
          "base_uri": "https://localhost:8080/",
          "height": 206
        },
        "id": "Gp2096w8BBHF",
        "outputId": "35ef229b-a25c-4214-ddcd-89a20ec82b73"
      },
      "execution_count": 137,
      "outputs": [
        {
          "output_type": "execute_result",
          "data": {
            "text/plain": [
              "      F1     F2   F3     F4    F5     F6     F7     F8      F9  F10   F11  \\\n",
              "0   4.92 -13.23  330  13.22 -5.51  41.10  16.72 -56.98 -748.72   20  9.75   \n",
              "1  -9.33 -27.72    3  12.78 -9.12   5.31   9.90 -30.98 -436.72    2 -1.56   \n",
              "2 -15.09 -26.28    6  13.54 -7.75   5.67   9.93 -34.98 -482.72    2 -2.58   \n",
              "3 -18.09 -24.60   30  13.28 -8.61   3.51  10.02 -30.98 -414.72    2 -7.08   \n",
              "4   6.12  -8.64  300  14.94 -1.97  29.40  19.32 -36.98 -428.72   20  9.09   \n",
              "\n",
              "      F12   F13   F14   F15  Class  \n",
              "0  259.66  8.00 -0.35  4.76  False  \n",
              "1  131.66  0.76  1.79   NaN  False  \n",
              "2   63.66  0.64  2.02   NaN   True  \n",
              "3  133.66  0.57  1.98   NaN   True  \n",
              "4  229.66  6.70 -3.83   NaN   True  "
            ],
            "text/html": [
              "\n",
              "  <div id=\"df-087176a2-d287-4d4d-ae06-43a274e9b5b6\">\n",
              "    <div class=\"colab-df-container\">\n",
              "      <div>\n",
              "<style scoped>\n",
              "    .dataframe tbody tr th:only-of-type {\n",
              "        vertical-align: middle;\n",
              "    }\n",
              "\n",
              "    .dataframe tbody tr th {\n",
              "        vertical-align: top;\n",
              "    }\n",
              "\n",
              "    .dataframe thead th {\n",
              "        text-align: right;\n",
              "    }\n",
              "</style>\n",
              "<table border=\"1\" class=\"dataframe\">\n",
              "  <thead>\n",
              "    <tr style=\"text-align: right;\">\n",
              "      <th></th>\n",
              "      <th>F1</th>\n",
              "      <th>F2</th>\n",
              "      <th>F3</th>\n",
              "      <th>F4</th>\n",
              "      <th>F5</th>\n",
              "      <th>F6</th>\n",
              "      <th>F7</th>\n",
              "      <th>F8</th>\n",
              "      <th>F9</th>\n",
              "      <th>F10</th>\n",
              "      <th>F11</th>\n",
              "      <th>F12</th>\n",
              "      <th>F13</th>\n",
              "      <th>F14</th>\n",
              "      <th>F15</th>\n",
              "      <th>Class</th>\n",
              "    </tr>\n",
              "  </thead>\n",
              "  <tbody>\n",
              "    <tr>\n",
              "      <th>0</th>\n",
              "      <td>4.92</td>\n",
              "      <td>-13.23</td>\n",
              "      <td>330</td>\n",
              "      <td>13.22</td>\n",
              "      <td>-5.51</td>\n",
              "      <td>41.10</td>\n",
              "      <td>16.72</td>\n",
              "      <td>-56.98</td>\n",
              "      <td>-748.72</td>\n",
              "      <td>20</td>\n",
              "      <td>9.75</td>\n",
              "      <td>259.66</td>\n",
              "      <td>8.00</td>\n",
              "      <td>-0.35</td>\n",
              "      <td>4.76</td>\n",
              "      <td>False</td>\n",
              "    </tr>\n",
              "    <tr>\n",
              "      <th>1</th>\n",
              "      <td>-9.33</td>\n",
              "      <td>-27.72</td>\n",
              "      <td>3</td>\n",
              "      <td>12.78</td>\n",
              "      <td>-9.12</td>\n",
              "      <td>5.31</td>\n",
              "      <td>9.90</td>\n",
              "      <td>-30.98</td>\n",
              "      <td>-436.72</td>\n",
              "      <td>2</td>\n",
              "      <td>-1.56</td>\n",
              "      <td>131.66</td>\n",
              "      <td>0.76</td>\n",
              "      <td>1.79</td>\n",
              "      <td>NaN</td>\n",
              "      <td>False</td>\n",
              "    </tr>\n",
              "    <tr>\n",
              "      <th>2</th>\n",
              "      <td>-15.09</td>\n",
              "      <td>-26.28</td>\n",
              "      <td>6</td>\n",
              "      <td>13.54</td>\n",
              "      <td>-7.75</td>\n",
              "      <td>5.67</td>\n",
              "      <td>9.93</td>\n",
              "      <td>-34.98</td>\n",
              "      <td>-482.72</td>\n",
              "      <td>2</td>\n",
              "      <td>-2.58</td>\n",
              "      <td>63.66</td>\n",
              "      <td>0.64</td>\n",
              "      <td>2.02</td>\n",
              "      <td>NaN</td>\n",
              "      <td>True</td>\n",
              "    </tr>\n",
              "    <tr>\n",
              "      <th>3</th>\n",
              "      <td>-18.09</td>\n",
              "      <td>-24.60</td>\n",
              "      <td>30</td>\n",
              "      <td>13.28</td>\n",
              "      <td>-8.61</td>\n",
              "      <td>3.51</td>\n",
              "      <td>10.02</td>\n",
              "      <td>-30.98</td>\n",
              "      <td>-414.72</td>\n",
              "      <td>2</td>\n",
              "      <td>-7.08</td>\n",
              "      <td>133.66</td>\n",
              "      <td>0.57</td>\n",
              "      <td>1.98</td>\n",
              "      <td>NaN</td>\n",
              "      <td>True</td>\n",
              "    </tr>\n",
              "    <tr>\n",
              "      <th>4</th>\n",
              "      <td>6.12</td>\n",
              "      <td>-8.64</td>\n",
              "      <td>300</td>\n",
              "      <td>14.94</td>\n",
              "      <td>-1.97</td>\n",
              "      <td>29.40</td>\n",
              "      <td>19.32</td>\n",
              "      <td>-36.98</td>\n",
              "      <td>-428.72</td>\n",
              "      <td>20</td>\n",
              "      <td>9.09</td>\n",
              "      <td>229.66</td>\n",
              "      <td>6.70</td>\n",
              "      <td>-3.83</td>\n",
              "      <td>NaN</td>\n",
              "      <td>True</td>\n",
              "    </tr>\n",
              "  </tbody>\n",
              "</table>\n",
              "</div>\n",
              "      <button class=\"colab-df-convert\" onclick=\"convertToInteractive('df-087176a2-d287-4d4d-ae06-43a274e9b5b6')\"\n",
              "              title=\"Convert this dataframe to an interactive table.\"\n",
              "              style=\"display:none;\">\n",
              "        \n",
              "  <svg xmlns=\"http://www.w3.org/2000/svg\" height=\"24px\"viewBox=\"0 0 24 24\"\n",
              "       width=\"24px\">\n",
              "    <path d=\"M0 0h24v24H0V0z\" fill=\"none\"/>\n",
              "    <path d=\"M18.56 5.44l.94 2.06.94-2.06 2.06-.94-2.06-.94-.94-2.06-.94 2.06-2.06.94zm-11 1L8.5 8.5l.94-2.06 2.06-.94-2.06-.94L8.5 2.5l-.94 2.06-2.06.94zm10 10l.94 2.06.94-2.06 2.06-.94-2.06-.94-.94-2.06-.94 2.06-2.06.94z\"/><path d=\"M17.41 7.96l-1.37-1.37c-.4-.4-.92-.59-1.43-.59-.52 0-1.04.2-1.43.59L10.3 9.45l-7.72 7.72c-.78.78-.78 2.05 0 2.83L4 21.41c.39.39.9.59 1.41.59.51 0 1.02-.2 1.41-.59l7.78-7.78 2.81-2.81c.8-.78.8-2.07 0-2.86zM5.41 20L4 18.59l7.72-7.72 1.47 1.35L5.41 20z\"/>\n",
              "  </svg>\n",
              "      </button>\n",
              "      \n",
              "  <style>\n",
              "    .colab-df-container {\n",
              "      display:flex;\n",
              "      flex-wrap:wrap;\n",
              "      gap: 12px;\n",
              "    }\n",
              "\n",
              "    .colab-df-convert {\n",
              "      background-color: #E8F0FE;\n",
              "      border: none;\n",
              "      border-radius: 50%;\n",
              "      cursor: pointer;\n",
              "      display: none;\n",
              "      fill: #1967D2;\n",
              "      height: 32px;\n",
              "      padding: 0 0 0 0;\n",
              "      width: 32px;\n",
              "    }\n",
              "\n",
              "    .colab-df-convert:hover {\n",
              "      background-color: #E2EBFA;\n",
              "      box-shadow: 0px 1px 2px rgba(60, 64, 67, 0.3), 0px 1px 3px 1px rgba(60, 64, 67, 0.15);\n",
              "      fill: #174EA6;\n",
              "    }\n",
              "\n",
              "    [theme=dark] .colab-df-convert {\n",
              "      background-color: #3B4455;\n",
              "      fill: #D2E3FC;\n",
              "    }\n",
              "\n",
              "    [theme=dark] .colab-df-convert:hover {\n",
              "      background-color: #434B5C;\n",
              "      box-shadow: 0px 1px 3px 1px rgba(0, 0, 0, 0.15);\n",
              "      filter: drop-shadow(0px 1px 2px rgba(0, 0, 0, 0.3));\n",
              "      fill: #FFFFFF;\n",
              "    }\n",
              "  </style>\n",
              "\n",
              "      <script>\n",
              "        const buttonEl =\n",
              "          document.querySelector('#df-087176a2-d287-4d4d-ae06-43a274e9b5b6 button.colab-df-convert');\n",
              "        buttonEl.style.display =\n",
              "          google.colab.kernel.accessAllowed ? 'block' : 'none';\n",
              "\n",
              "        async function convertToInteractive(key) {\n",
              "          const element = document.querySelector('#df-087176a2-d287-4d4d-ae06-43a274e9b5b6');\n",
              "          const dataTable =\n",
              "            await google.colab.kernel.invokeFunction('convertToInteractive',\n",
              "                                                     [key], {});\n",
              "          if (!dataTable) return;\n",
              "\n",
              "          const docLinkHtml = 'Like what you see? Visit the ' +\n",
              "            '<a target=\"_blank\" href=https://colab.research.google.com/notebooks/data_table.ipynb>data table notebook</a>'\n",
              "            + ' to learn more about interactive tables.';\n",
              "          element.innerHTML = '';\n",
              "          dataTable['output_type'] = 'display_data';\n",
              "          await google.colab.output.renderOutput(dataTable, element);\n",
              "          const docLink = document.createElement('div');\n",
              "          docLink.innerHTML = docLinkHtml;\n",
              "          element.appendChild(docLink);\n",
              "        }\n",
              "      </script>\n",
              "    </div>\n",
              "  </div>\n",
              "  "
            ]
          },
          "metadata": {},
          "execution_count": 137
        }
      ]
    },
    {
      "cell_type": "markdown",
      "source": [
        "We can see from an intial look into the dataset that feature F15 has NaN values in which will need to be addressed during the feature engineering."
      ],
      "metadata": {
        "id": "n6foAY5KBLeF"
      }
    },
    {
      "cell_type": "code",
      "source": [
        "# Checking for NaN values in F15 variable\n",
        "df['F15'].isnull().sum()"
      ],
      "metadata": {
        "colab": {
          "base_uri": "https://localhost:8080/"
        },
        "id": "qAuhsZL8Blza",
        "outputId": "bfa150bd-8273-480e-f604-51fb74219ead"
      },
      "execution_count": 138,
      "outputs": [
        {
          "output_type": "execute_result",
          "data": {
            "text/plain": [
              "750"
            ]
          },
          "metadata": {},
          "execution_count": 138
        }
      ]
    },
    {
      "cell_type": "markdown",
      "source": [
        "There are 750 NaN values in F15, with this many NaN values it may be worth to drop the entire column if it negatively impacts the prediction of Diabetes."
      ],
      "metadata": {
        "id": "0BoIQex_BqwO"
      }
    },
    {
      "cell_type": "code",
      "source": [
        "# Checking datatypes\n",
        "print(df.dtypes, '\\n')\n",
        "\n",
        "print('The number of datatypes for the features: ','\\n', df.dtypes.value_counts())"
      ],
      "metadata": {
        "colab": {
          "base_uri": "https://localhost:8080/"
        },
        "id": "f-vMDaMgn-aR",
        "outputId": "2ceafa3d-27fd-4894-aaae-e2dd431991f5"
      },
      "execution_count": 139,
      "outputs": [
        {
          "output_type": "stream",
          "name": "stdout",
          "text": [
            "F1       float64\n",
            "F2       float64\n",
            "F3         int64\n",
            "F4       float64\n",
            "F5       float64\n",
            "F6       float64\n",
            "F7       float64\n",
            "F8       float64\n",
            "F9       float64\n",
            "F10        int64\n",
            "F11      float64\n",
            "F12      float64\n",
            "F13      float64\n",
            "F14      float64\n",
            "F15      float64\n",
            "Class       bool\n",
            "dtype: object \n",
            "\n",
            "The number of datatypes for the features:  \n",
            " float64    13\n",
            "int64       2\n",
            "bool        1\n",
            "dtype: int64\n"
          ]
        }
      ]
    },
    {
      "cell_type": "code",
      "source": [
        "df.describe().T"
      ],
      "metadata": {
        "colab": {
          "base_uri": "https://localhost:8080/",
          "height": 520
        },
        "id": "PsfeK76SoyQp",
        "outputId": "7c3b3ee7-f121-4cc3-fd0d-5bd4fc45e405"
      },
      "execution_count": 140,
      "outputs": [
        {
          "output_type": "execute_result",
          "data": {
            "text/plain": [
              "      count        mean         std     min       25%      50%       75%  \\\n",
              "F1   1500.0   -4.569780    7.662813  -29.76  -10.2600   -7.560    2.9175   \n",
              "F2   1500.0  -20.474600    7.635517  -45.57  -26.1300  -23.445  -13.1100   \n",
              "F3   1500.0  109.024667  117.334580    0.00   15.0000   50.000  195.0000   \n",
              "F4   1500.0   12.744707    2.217929    8.02   11.4400   12.440   13.9000   \n",
              "F5   1500.0   -6.248787    2.540644  -15.28   -8.1300   -7.230   -3.7700   \n",
              "F6   1500.0   14.906280   12.975630    0.00    3.7200    6.210   24.6000   \n",
              "F7   1500.0   13.107813    3.166909    9.42   10.1400   10.500   15.8700   \n",
              "F8   1500.0  -42.256000   14.318630  -76.98  -56.9800  -34.980  -30.9800   \n",
              "F9   1500.0 -557.610667  142.833748 -888.72 -678.7200 -486.720 -446.7200   \n",
              "F10  1500.0   10.806667    9.009814    0.00    2.0000    2.000   20.0000   \n",
              "F11  1500.0    3.878840    7.541549  -19.11   -1.9500    0.930   11.1000   \n",
              "F12  1500.0  108.488000   80.376896 -120.34   71.6600   97.660  139.6600   \n",
              "F13  1500.0    3.854280    3.465276    0.00    0.6000    1.020    7.0500   \n",
              "F14  1500.0    0.147533    2.491236   -4.36   -2.2300    1.100    1.9825   \n",
              "F15   750.0    5.783013    1.005117    3.06    5.0625    5.790    6.5300   \n",
              "\n",
              "        max  \n",
              "F1     8.85  \n",
              "F2    -6.78  \n",
              "F3   390.00  \n",
              "F4    21.22  \n",
              "F5    -1.59  \n",
              "F6    47.10  \n",
              "F7    19.57  \n",
              "F8   -24.98  \n",
              "F9  -398.72  \n",
              "F10   20.00  \n",
              "F11   17.31  \n",
              "F12  309.66  \n",
              "F13   10.35  \n",
              "F14    7.88  \n",
              "F15    8.14  "
            ],
            "text/html": [
              "\n",
              "  <div id=\"df-0344f4bf-d33b-411c-a66b-08ab3149c332\">\n",
              "    <div class=\"colab-df-container\">\n",
              "      <div>\n",
              "<style scoped>\n",
              "    .dataframe tbody tr th:only-of-type {\n",
              "        vertical-align: middle;\n",
              "    }\n",
              "\n",
              "    .dataframe tbody tr th {\n",
              "        vertical-align: top;\n",
              "    }\n",
              "\n",
              "    .dataframe thead th {\n",
              "        text-align: right;\n",
              "    }\n",
              "</style>\n",
              "<table border=\"1\" class=\"dataframe\">\n",
              "  <thead>\n",
              "    <tr style=\"text-align: right;\">\n",
              "      <th></th>\n",
              "      <th>count</th>\n",
              "      <th>mean</th>\n",
              "      <th>std</th>\n",
              "      <th>min</th>\n",
              "      <th>25%</th>\n",
              "      <th>50%</th>\n",
              "      <th>75%</th>\n",
              "      <th>max</th>\n",
              "    </tr>\n",
              "  </thead>\n",
              "  <tbody>\n",
              "    <tr>\n",
              "      <th>F1</th>\n",
              "      <td>1500.0</td>\n",
              "      <td>-4.569780</td>\n",
              "      <td>7.662813</td>\n",
              "      <td>-29.76</td>\n",
              "      <td>-10.2600</td>\n",
              "      <td>-7.560</td>\n",
              "      <td>2.9175</td>\n",
              "      <td>8.85</td>\n",
              "    </tr>\n",
              "    <tr>\n",
              "      <th>F2</th>\n",
              "      <td>1500.0</td>\n",
              "      <td>-20.474600</td>\n",
              "      <td>7.635517</td>\n",
              "      <td>-45.57</td>\n",
              "      <td>-26.1300</td>\n",
              "      <td>-23.445</td>\n",
              "      <td>-13.1100</td>\n",
              "      <td>-6.78</td>\n",
              "    </tr>\n",
              "    <tr>\n",
              "      <th>F3</th>\n",
              "      <td>1500.0</td>\n",
              "      <td>109.024667</td>\n",
              "      <td>117.334580</td>\n",
              "      <td>0.00</td>\n",
              "      <td>15.0000</td>\n",
              "      <td>50.000</td>\n",
              "      <td>195.0000</td>\n",
              "      <td>390.00</td>\n",
              "    </tr>\n",
              "    <tr>\n",
              "      <th>F4</th>\n",
              "      <td>1500.0</td>\n",
              "      <td>12.744707</td>\n",
              "      <td>2.217929</td>\n",
              "      <td>8.02</td>\n",
              "      <td>11.4400</td>\n",
              "      <td>12.440</td>\n",
              "      <td>13.9000</td>\n",
              "      <td>21.22</td>\n",
              "    </tr>\n",
              "    <tr>\n",
              "      <th>F5</th>\n",
              "      <td>1500.0</td>\n",
              "      <td>-6.248787</td>\n",
              "      <td>2.540644</td>\n",
              "      <td>-15.28</td>\n",
              "      <td>-8.1300</td>\n",
              "      <td>-7.230</td>\n",
              "      <td>-3.7700</td>\n",
              "      <td>-1.59</td>\n",
              "    </tr>\n",
              "    <tr>\n",
              "      <th>F6</th>\n",
              "      <td>1500.0</td>\n",
              "      <td>14.906280</td>\n",
              "      <td>12.975630</td>\n",
              "      <td>0.00</td>\n",
              "      <td>3.7200</td>\n",
              "      <td>6.210</td>\n",
              "      <td>24.6000</td>\n",
              "      <td>47.10</td>\n",
              "    </tr>\n",
              "    <tr>\n",
              "      <th>F7</th>\n",
              "      <td>1500.0</td>\n",
              "      <td>13.107813</td>\n",
              "      <td>3.166909</td>\n",
              "      <td>9.42</td>\n",
              "      <td>10.1400</td>\n",
              "      <td>10.500</td>\n",
              "      <td>15.8700</td>\n",
              "      <td>19.57</td>\n",
              "    </tr>\n",
              "    <tr>\n",
              "      <th>F8</th>\n",
              "      <td>1500.0</td>\n",
              "      <td>-42.256000</td>\n",
              "      <td>14.318630</td>\n",
              "      <td>-76.98</td>\n",
              "      <td>-56.9800</td>\n",
              "      <td>-34.980</td>\n",
              "      <td>-30.9800</td>\n",
              "      <td>-24.98</td>\n",
              "    </tr>\n",
              "    <tr>\n",
              "      <th>F9</th>\n",
              "      <td>1500.0</td>\n",
              "      <td>-557.610667</td>\n",
              "      <td>142.833748</td>\n",
              "      <td>-888.72</td>\n",
              "      <td>-678.7200</td>\n",
              "      <td>-486.720</td>\n",
              "      <td>-446.7200</td>\n",
              "      <td>-398.72</td>\n",
              "    </tr>\n",
              "    <tr>\n",
              "      <th>F10</th>\n",
              "      <td>1500.0</td>\n",
              "      <td>10.806667</td>\n",
              "      <td>9.009814</td>\n",
              "      <td>0.00</td>\n",
              "      <td>2.0000</td>\n",
              "      <td>2.000</td>\n",
              "      <td>20.0000</td>\n",
              "      <td>20.00</td>\n",
              "    </tr>\n",
              "    <tr>\n",
              "      <th>F11</th>\n",
              "      <td>1500.0</td>\n",
              "      <td>3.878840</td>\n",
              "      <td>7.541549</td>\n",
              "      <td>-19.11</td>\n",
              "      <td>-1.9500</td>\n",
              "      <td>0.930</td>\n",
              "      <td>11.1000</td>\n",
              "      <td>17.31</td>\n",
              "    </tr>\n",
              "    <tr>\n",
              "      <th>F12</th>\n",
              "      <td>1500.0</td>\n",
              "      <td>108.488000</td>\n",
              "      <td>80.376896</td>\n",
              "      <td>-120.34</td>\n",
              "      <td>71.6600</td>\n",
              "      <td>97.660</td>\n",
              "      <td>139.6600</td>\n",
              "      <td>309.66</td>\n",
              "    </tr>\n",
              "    <tr>\n",
              "      <th>F13</th>\n",
              "      <td>1500.0</td>\n",
              "      <td>3.854280</td>\n",
              "      <td>3.465276</td>\n",
              "      <td>0.00</td>\n",
              "      <td>0.6000</td>\n",
              "      <td>1.020</td>\n",
              "      <td>7.0500</td>\n",
              "      <td>10.35</td>\n",
              "    </tr>\n",
              "    <tr>\n",
              "      <th>F14</th>\n",
              "      <td>1500.0</td>\n",
              "      <td>0.147533</td>\n",
              "      <td>2.491236</td>\n",
              "      <td>-4.36</td>\n",
              "      <td>-2.2300</td>\n",
              "      <td>1.100</td>\n",
              "      <td>1.9825</td>\n",
              "      <td>7.88</td>\n",
              "    </tr>\n",
              "    <tr>\n",
              "      <th>F15</th>\n",
              "      <td>750.0</td>\n",
              "      <td>5.783013</td>\n",
              "      <td>1.005117</td>\n",
              "      <td>3.06</td>\n",
              "      <td>5.0625</td>\n",
              "      <td>5.790</td>\n",
              "      <td>6.5300</td>\n",
              "      <td>8.14</td>\n",
              "    </tr>\n",
              "  </tbody>\n",
              "</table>\n",
              "</div>\n",
              "      <button class=\"colab-df-convert\" onclick=\"convertToInteractive('df-0344f4bf-d33b-411c-a66b-08ab3149c332')\"\n",
              "              title=\"Convert this dataframe to an interactive table.\"\n",
              "              style=\"display:none;\">\n",
              "        \n",
              "  <svg xmlns=\"http://www.w3.org/2000/svg\" height=\"24px\"viewBox=\"0 0 24 24\"\n",
              "       width=\"24px\">\n",
              "    <path d=\"M0 0h24v24H0V0z\" fill=\"none\"/>\n",
              "    <path d=\"M18.56 5.44l.94 2.06.94-2.06 2.06-.94-2.06-.94-.94-2.06-.94 2.06-2.06.94zm-11 1L8.5 8.5l.94-2.06 2.06-.94-2.06-.94L8.5 2.5l-.94 2.06-2.06.94zm10 10l.94 2.06.94-2.06 2.06-.94-2.06-.94-.94-2.06-.94 2.06-2.06.94z\"/><path d=\"M17.41 7.96l-1.37-1.37c-.4-.4-.92-.59-1.43-.59-.52 0-1.04.2-1.43.59L10.3 9.45l-7.72 7.72c-.78.78-.78 2.05 0 2.83L4 21.41c.39.39.9.59 1.41.59.51 0 1.02-.2 1.41-.59l7.78-7.78 2.81-2.81c.8-.78.8-2.07 0-2.86zM5.41 20L4 18.59l7.72-7.72 1.47 1.35L5.41 20z\"/>\n",
              "  </svg>\n",
              "      </button>\n",
              "      \n",
              "  <style>\n",
              "    .colab-df-container {\n",
              "      display:flex;\n",
              "      flex-wrap:wrap;\n",
              "      gap: 12px;\n",
              "    }\n",
              "\n",
              "    .colab-df-convert {\n",
              "      background-color: #E8F0FE;\n",
              "      border: none;\n",
              "      border-radius: 50%;\n",
              "      cursor: pointer;\n",
              "      display: none;\n",
              "      fill: #1967D2;\n",
              "      height: 32px;\n",
              "      padding: 0 0 0 0;\n",
              "      width: 32px;\n",
              "    }\n",
              "\n",
              "    .colab-df-convert:hover {\n",
              "      background-color: #E2EBFA;\n",
              "      box-shadow: 0px 1px 2px rgba(60, 64, 67, 0.3), 0px 1px 3px 1px rgba(60, 64, 67, 0.15);\n",
              "      fill: #174EA6;\n",
              "    }\n",
              "\n",
              "    [theme=dark] .colab-df-convert {\n",
              "      background-color: #3B4455;\n",
              "      fill: #D2E3FC;\n",
              "    }\n",
              "\n",
              "    [theme=dark] .colab-df-convert:hover {\n",
              "      background-color: #434B5C;\n",
              "      box-shadow: 0px 1px 3px 1px rgba(0, 0, 0, 0.15);\n",
              "      filter: drop-shadow(0px 1px 2px rgba(0, 0, 0, 0.3));\n",
              "      fill: #FFFFFF;\n",
              "    }\n",
              "  </style>\n",
              "\n",
              "      <script>\n",
              "        const buttonEl =\n",
              "          document.querySelector('#df-0344f4bf-d33b-411c-a66b-08ab3149c332 button.colab-df-convert');\n",
              "        buttonEl.style.display =\n",
              "          google.colab.kernel.accessAllowed ? 'block' : 'none';\n",
              "\n",
              "        async function convertToInteractive(key) {\n",
              "          const element = document.querySelector('#df-0344f4bf-d33b-411c-a66b-08ab3149c332');\n",
              "          const dataTable =\n",
              "            await google.colab.kernel.invokeFunction('convertToInteractive',\n",
              "                                                     [key], {});\n",
              "          if (!dataTable) return;\n",
              "\n",
              "          const docLinkHtml = 'Like what you see? Visit the ' +\n",
              "            '<a target=\"_blank\" href=https://colab.research.google.com/notebooks/data_table.ipynb>data table notebook</a>'\n",
              "            + ' to learn more about interactive tables.';\n",
              "          element.innerHTML = '';\n",
              "          dataTable['output_type'] = 'display_data';\n",
              "          await google.colab.output.renderOutput(dataTable, element);\n",
              "          const docLink = document.createElement('div');\n",
              "          docLink.innerHTML = docLinkHtml;\n",
              "          element.appendChild(docLink);\n",
              "        }\n",
              "      </script>\n",
              "    </div>\n",
              "  </div>\n",
              "  "
            ]
          },
          "metadata": {},
          "execution_count": 140
        }
      ]
    },
    {
      "cell_type": "markdown",
      "source": [
        "We can see that some features hold the value of 0, however, these will not be addressed due to not knowing the value of the feature inherently without testing. If the 0 values impact the accuracy of the accuracy then the dataset can be re-engineered in future experiments. "
      ],
      "metadata": {
        "id": "zGYdKk8arFSy"
      }
    },
    {
      "cell_type": "code",
      "source": [
        "# Correlation heatmap of the features\n",
        "plt.figure(figsize=(15,15))\n",
        "sns.heatmap(df.corr(),cbar=True,annot=True)"
      ],
      "metadata": {
        "colab": {
          "base_uri": "https://localhost:8080/",
          "height": 884
        },
        "id": "XakgOxigsIA_",
        "outputId": "3a03c623-6f2f-46c8-cc29-897af456d3d1"
      },
      "execution_count": 141,
      "outputs": [
        {
          "output_type": "execute_result",
          "data": {
            "text/plain": [
              "<matplotlib.axes._subplots.AxesSubplot at 0x7f24322f1c50>"
            ]
          },
          "metadata": {},
          "execution_count": 141
        },
        {
          "output_type": "display_data",
          "data": {
            "text/plain": [
              "<Figure size 1080x1080 with 2 Axes>"
            ],
            "image/png": "[encoded data removed]"
          },
          "metadata": {
            "needs_background": "light"
          }
        }
      ]
    },
    {
      "cell_type": "markdown",
      "source": [
        "#Feature Engineering / Preprocessing"
      ],
      "metadata": {
        "id": "SxLO45u6xbVZ"
      }
    },
    {
      "cell_type": "markdown",
      "source": [
        "From the dataset we can initially remove the F15 feature due to it's vast amount of Nan values."
      ],
      "metadata": {
        "id": "Xx2RsecU_UVi"
      }
    },
    {
      "cell_type": "code",
      "source": [
        "# The size of the data before the 'F15' feature has been dropped\n",
        "print(\"The size of the data before dropping 'F15' feature is : {} \".format(df.shape))\n",
        "\n",
        "df = df.drop(columns = ['F15'], axis = 1) # Dropping 'F15' Column\n",
        "\n",
        "print(\"The size of the data after dropping 'F15' feature is : {} \".format(df.shape))"
      ],
      "metadata": {
        "colab": {
          "base_uri": "https://localhost:8080/"
        },
        "id": "2zrhKrKw_muG",
        "outputId": "94b85ecf-ed92-428f-b812-5731bba5b374"
      },
      "execution_count": 142,
      "outputs": [
        {
          "output_type": "stream",
          "name": "stdout",
          "text": [
            "The size of the data before dropping 'F15' feature is : (1500, 16) \n",
            "The size of the data after dropping 'F15' feature is : (1500, 15) \n"
          ]
        }
      ]
    },
    {
      "cell_type": "code",
      "source": [
        "# Boxplots to see outliers in the dataset\n",
        "fig, axes = plt.subplots(2,7, figsize = (18,10))\n",
        "\n",
        "fig.suptitle('Checking Outliers in Dataset', y=1.05, fontsize = 16)\n",
        "\n",
        "# Drawing the boxplots for each feature \n",
        "sns.boxplot(ax=axes[0,0], data=df, x = 'Class', y = 'F1')\n",
        "\n",
        "sns.boxplot(ax=axes[0,1], data=df, x = 'Class', y = 'F2')\n",
        "\n",
        "sns.boxplot(ax=axes[0,2], data=df, x = 'Class', y = 'F3')\n",
        "\n",
        "sns.boxplot(ax=axes[0,3], data=df, x = 'Class', y = 'F4')\n",
        "\n",
        "sns.boxplot(ax=axes[0,4], data=df, x = 'Class', y = 'F5')\n",
        "\n",
        "sns.boxplot(ax=axes[0,5], data=df, x = 'Class', y = 'F6')\n",
        "\n",
        "sns.boxplot(ax=axes[0,6], data=df, x = 'Class', y = 'F7')\n",
        "\n",
        "sns.boxplot(ax=axes[1,0], data=df, x = 'Class', y = 'F8')\n",
        "\n",
        "sns.boxplot(ax=axes[1,1], data=df, x = 'Class', y = 'F9')\n",
        "\n",
        "sns.boxplot(ax=axes[1,2], data=df, x = 'Class', y = 'F10')\n",
        "\n",
        "sns.boxplot(ax=axes[1,3], data=df, x = 'Class', y = 'F11')\n",
        "\n",
        "sns.boxplot(ax=axes[1,4], data=df, x = 'Class', y = 'F12')\n",
        "\n",
        "sns.boxplot(ax=axes[1,5], data=df, x = 'Class', y = 'F13')\n",
        "\n",
        "sns.boxplot(ax=axes[1,6], data=df, x = 'Class', y = 'F14')\n",
        "\n",
        "fig.tight_layout()\n",
        "plt.show()\n"
      ],
      "metadata": {
        "colab": {
          "base_uri": "https://localhost:8080/",
          "height": 776
        },
        "id": "n5zkQNEJL12M",
        "outputId": "8831dd0c-1c25-40b4-a851-8b532e277e36"
      },
      "execution_count": 143,
      "outputs": [
        {
          "output_type": "display_data",
          "data": {
            "text/plain": [
              "<Figure size 1296x720 with 14 Axes>"
            ],
            "image/png": "[encoded data removed]"
          },
          "metadata": {
            "needs_background": "light"
          }
        }
      ]
    },
    {
      "cell_type": "markdown",
      "source": [
        "We can see from the boxplots that majority of the features do not have outliers, on the other hand, F3, F4, F9 and F12 all containing significant amounts of outliers which normally would need to be addressed. \n",
        "\n",
        "However, as the names of the labels are not given, I will not be removing the outliers as without apprropriate expert or prior knowledge I cannot determine whether these outliers will positively or negatively impact the learning algorithm - or if a given feature is highly important to determining diabetes.\n"
      ],
      "metadata": {
        "id": "CCfinAO8HOll"
      }
    },
    {
      "cell_type": "markdown",
      "source": [
        "# Prediction"
      ],
      "metadata": {
        "id": "gt2vbWFgIUOt"
      }
    },
    {
      "cell_type": "markdown",
      "source": [
        "Importing Machine Learning Models"
      ],
      "metadata": {
        "id": "am0I2-ubMhE_"
      }
    },
    {
      "cell_type": "code",
      "source": [
        "# Importing ML models & Evaluators\n",
        "from sklearn.tree import DecisionTreeClassifier\n",
        "from sklearn.neighbors import KNeighborsClassifier\n",
        "from sklearn.naive_bayes import GaussianNB\n",
        "from sklearn.model_selection import train_test_split\n",
        "from sklearn.metrics import classification_report\n",
        "from sklearn.metrics import mean_squared_error as mse\n",
        "from sklearn.metrics import confusion_matrix\n",
        "from sklearn.model_selection import cross_val_score\n",
        "from sklearn.model_selection import GridSearchCV"
      ],
      "metadata": {
        "id": "3ZGGwOZOIV9f"
      },
      "execution_count": 144,
      "outputs": []
    },
    {
      "cell_type": "markdown",
      "source": [
        "# Modelling the Data\n"
      ],
      "metadata": {
        "id": "GzvKsL9aLvWk"
      }
    },
    {
      "cell_type": "code",
      "source": [
        "from sklearn.model_selection import train_test_split\n",
        "from sklearn.preprocessing import StandardScaler\n",
        "\n",
        "# Assigning X and y values, dropping the 'Class' feature as it will not help for prediction on the test set.\n",
        "X = df.drop('Class', axis = 1).to_numpy()\n",
        "y = df['Class'].to_numpy()\n",
        "\n",
        "# Scaling the dataset\n",
        "standardScale = StandardScaler()\n",
        "standardScale.fit_transform(X)\n",
        "\n",
        "# Splitting the Data into Train and Test sets - 80:20 Split on the training and test set\n",
        "X_train, X_test, y_train, y_test = train_test_split(X,y, test_size=0.20, random_state = 0)"
      ],
      "metadata": {
        "id": "vqOcSlrYLztM"
      },
      "execution_count": 145,
      "outputs": []
    },
    {
      "cell_type": "markdown",
      "source": [
        "# GridSearch Hyper Tuning Parameters"
      ],
      "metadata": {
        "id": "qKhDIL2j5-16"
      }
    },
    {
      "cell_type": "code",
      "source": [
        "# Creating dict for Decision Tree\n",
        "params1= {'criterion' :('gini','entropy')}"
      ],
      "metadata": {
        "id": "UmfHPrEH7jne"
      },
      "execution_count": 146,
      "outputs": []
    },
    {
      "cell_type": "code",
      "source": [
        "# Creating dict for KNN\n",
        "params2= {'n_neighbors' : [1,3,5,10]}"
      ],
      "metadata": {
        "id": "OK1WScmg8O8H"
      },
      "execution_count": 147,
      "outputs": []
    },
    {
      "cell_type": "code",
      "source": [
        "# GridsearchCV on DT\n",
        "grid = GridSearchCV(DecisionTreeClassifier(), params1, scoring = 'accuracy')\n",
        "grid.fit(X,y)\n",
        "grid.best_params_"
      ],
      "metadata": {
        "id": "VHZs6Qd-88ep",
        "outputId": "1db2be04-e09e-4b30-c46d-d2ef54d60c92",
        "colab": {
          "base_uri": "https://localhost:8080/"
        }
      },
      "execution_count": 148,
      "outputs": [
        {
          "output_type": "execute_result",
          "data": {
            "text/plain": [
              "{'criterion': 'gini'}"
            ]
          },
          "metadata": {},
          "execution_count": 148
        }
      ]
    },
    {
      "cell_type": "code",
      "source": [
        "# GridsearchCV on KNN\n",
        "grid = GridSearchCV(KNeighborsClassifier(), params2, scoring = 'accuracy')\n",
        "grid.fit(X,y)\n",
        "grid.best_params_"
      ],
      "metadata": {
        "id": "taW-HA4D-3FH",
        "outputId": "d98c42f8-87df-4c38-e437-9e5617609e5d",
        "colab": {
          "base_uri": "https://localhost:8080/"
        }
      },
      "execution_count": 149,
      "outputs": [
        {
          "output_type": "execute_result",
          "data": {
            "text/plain": [
              "{'n_neighbors': 5}"
            ]
          },
          "metadata": {},
          "execution_count": 149
        }
      ]
    },
    {
      "cell_type": "markdown",
      "source": [
        "# Decision Tree \n"
      ],
      "metadata": {
        "id": "k5fy2iLdv_KL"
      }
    },
    {
      "cell_type": "markdown",
      "source": [
        "Cross-Validation on Decision Tree\n"
      ],
      "metadata": {
        "id": "gFqr0YAnOB_C"
      }
    },
    {
      "cell_type": "code",
      "source": [
        "# Cross-Validation on DT\n",
        "\n",
        "clf = DecisionTreeClassifier(criterion = 'gini')\n",
        "\n",
        "scores = cross_val_score(clf, X,y, cv=5)\n",
        "\n",
        "print(\"Decision Tree Cross-validation scores: \", scores)\n",
        "\n",
        "print(\"Mean 5-Fold Accuracy: %0.2f \\nVariance: (+/- %0.2f)\" % (scores.mean(), scores.std() * 2))"
      ],
      "metadata": {
        "colab": {
          "base_uri": "https://localhost:8080/"
        },
        "id": "cpBuLPfrNMPf",
        "outputId": "e086d7dc-fd4a-4312-dcac-438f058e4792"
      },
      "execution_count": 150,
      "outputs": [
        {
          "output_type": "stream",
          "name": "stdout",
          "text": [
            "Decision Tree Cross-validation scores:  [0.70333333 0.79333333 0.79       0.77666667 0.78      ]\n",
            "Mean 5-Fold Accuracy: 0.77 \n",
            "Variance: (+/- 0.07)\n"
          ]
        }
      ]
    },
    {
      "cell_type": "markdown",
      "source": [
        "Decision Tree Prediction"
      ],
      "metadata": {
        "id": "S2YBy8V2QPrb"
      }
    },
    {
      "cell_type": "code",
      "source": [
        "# Decision Tree Classifier\n",
        "tree = DecisionTreeClassifier(criterion = 'gini')\n",
        "tree.fit(X_train, y_train)\n",
        "\n",
        "# Prediction\n",
        "tree_y_pred = tree.predict(X_test)\n",
        "\n",
        "# Prediction Score\n",
        "tree_test_score = tree.score(X_test, y_test)\n",
        "print('Prediction score: {:.2f} \\n'.format(tree_test_score))\n",
        "\n",
        "# Classification Report\n",
        "print('Classification Report: \\n', classification_report(y_test, tree_y_pred))\n",
        "\n",
        "# Confusion Matrix\n",
        "print('Confusion Matrix: \\n', confusion_matrix(y_test, tree_y_pred))\n"
      ],
      "metadata": {
        "colab": {
          "base_uri": "https://localhost:8080/"
        },
        "id": "9ux5aDx0OMkB",
        "outputId": "f5abd77c-0e38-4e3e-afec-296014eb3541"
      },
      "execution_count": 151,
      "outputs": [
        {
          "output_type": "stream",
          "name": "stdout",
          "text": [
            "Prediction score: 0.76 \n",
            "\n",
            "Classification Report: \n",
            "               precision    recall  f1-score   support\n",
            "\n",
            "       False       0.76      0.80      0.78       160\n",
            "        True       0.76      0.71      0.73       140\n",
            "\n",
            "    accuracy                           0.76       300\n",
            "   macro avg       0.76      0.75      0.75       300\n",
            "weighted avg       0.76      0.76      0.76       300\n",
            "\n",
            "Confusion Matrix: \n",
            " [[128  32]\n",
            " [ 41  99]]\n"
          ]
        }
      ]
    },
    {
      "cell_type": "markdown",
      "source": [
        "# Naive Bayes"
      ],
      "metadata": {
        "id": "OWZr_W_owGc_"
      }
    },
    {
      "cell_type": "markdown",
      "source": [
        "Cross-Validation on Naive Bayes"
      ],
      "metadata": {
        "id": "FCY7-HEGwL0N"
      }
    },
    {
      "cell_type": "code",
      "source": [
        "# Cross-Validation on Naive Bayes\n",
        "\n",
        "clf = GaussianNB()\n",
        "\n",
        "scores = cross_val_score(clf, X,y, cv=5)\n",
        "\n",
        "print(\"Naive Bayes Cross-validation scores: \", scores)\n",
        "\n",
        "print(\"Mean 5-Fold Accuracy: %0.2f \\nVariance: (+/- %0.2f)\" % (scores.mean(), scores.std() * 2))"
      ],
      "metadata": {
        "colab": {
          "base_uri": "https://localhost:8080/"
        },
        "id": "JbEaGeQfwJje",
        "outputId": "49f40a49-65cd-4324-9ece-8edda91455e1"
      },
      "execution_count": 152,
      "outputs": [
        {
          "output_type": "stream",
          "name": "stdout",
          "text": [
            "Naive Bayes Cross-validation scores:  [0.61       0.63       0.56666667 0.57666667 0.61      ]\n",
            "Mean 5-Fold Accuracy: 0.60 \n",
            "Variance: (+/- 0.05)\n"
          ]
        }
      ]
    },
    {
      "cell_type": "markdown",
      "source": [
        "Naive Bayes Prediction"
      ],
      "metadata": {
        "id": "s9wcdEnFwqM6"
      }
    },
    {
      "cell_type": "code",
      "source": [
        "# Naive Bayes\n",
        "NB = GaussianNB()\n",
        "NB.fit(X_train, y_train)\n",
        "\n",
        "# Prediction\n",
        "y_pred = NB.predict(X_test)\n",
        "\n",
        "# Prediction Score\n",
        "NB_test_score = NB.score(X_test, y_test)\n",
        "print('Prediction score: {:.2f} \\n'.format(NB_test_score))\n",
        "\n",
        "# Classification Report\n",
        "print('Classification Report: \\n', classification_report(y_test, y_pred))\n",
        "\n",
        "# Confusion Matrix\n",
        "print('Confusion Matrix: \\n', confusion_matrix(y_test, y_pred))"
      ],
      "metadata": {
        "colab": {
          "base_uri": "https://localhost:8080/"
        },
        "id": "0TiyQ3CJwtbX",
        "outputId": "2df8db49-c1d6-413f-b26b-f8858c0f874c"
      },
      "execution_count": 153,
      "outputs": [
        {
          "output_type": "stream",
          "name": "stdout",
          "text": [
            "Prediction score: 0.57 \n",
            "\n",
            "Classification Report: \n",
            "               precision    recall  f1-score   support\n",
            "\n",
            "       False       0.61      0.52      0.56       160\n",
            "        True       0.53      0.63      0.58       140\n",
            "\n",
            "    accuracy                           0.57       300\n",
            "   macro avg       0.57      0.57      0.57       300\n",
            "weighted avg       0.58      0.57      0.57       300\n",
            "\n",
            "Confusion Matrix: \n",
            " [[83 77]\n",
            " [52 88]]\n"
          ]
        }
      ]
    },
    {
      "cell_type": "markdown",
      "source": [
        "# K-Nearest Neighbour"
      ],
      "metadata": {
        "id": "1F4W7_bAxfBf"
      }
    },
    {
      "cell_type": "markdown",
      "source": [
        "Cross-Validation on K-NN"
      ],
      "metadata": {
        "id": "FeuqxiilyB-1"
      }
    },
    {
      "cell_type": "code",
      "source": [
        "clf = KNeighborsClassifier(n_neighbors=5)\n",
        "\n",
        "scores = cross_val_score(clf, X,y, cv=5)\n",
        "\n",
        "print(\"Decision Tree Cross-validation scores: \", scores)\n",
        "\n",
        "print(\"Mean 5-Fold Accuracy: %0.2f \\nVariance: (+/- %0.2f)\" % (scores.mean(), scores.std() * 2))"
      ],
      "metadata": {
        "colab": {
          "base_uri": "https://localhost:8080/"
        },
        "id": "2h6Hc92LyE0X",
        "outputId": "c0914ea7-1fca-402c-8ae3-55684a9f482f"
      },
      "execution_count": 154,
      "outputs": [
        {
          "output_type": "stream",
          "name": "stdout",
          "text": [
            "Decision Tree Cross-validation scores:  [0.68666667 0.66       0.63666667 0.61666667 0.59      ]\n",
            "Mean 5-Fold Accuracy: 0.64 \n",
            "Variance: (+/- 0.07)\n"
          ]
        }
      ]
    },
    {
      "cell_type": "markdown",
      "source": [
        "K-NN Prediction"
      ],
      "metadata": {
        "id": "OQr9RjVUymnC"
      }
    },
    {
      "cell_type": "code",
      "source": [
        "# Knn\n",
        "knn = KNeighborsClassifier(n_neighbors=5)\n",
        "knn.fit(X_train, y_train)\n",
        "\n",
        "# Prediction\n",
        "y_pred = knn.predict(X_test)\n",
        "\n",
        "\n",
        "# Prediction Score\n",
        "knn_test_score = knn.score(X_test, y_test)\n",
        "print('Prediction score: {:.2f} \\n'.format(knn_test_score))\n",
        "\n",
        "\n",
        "# Classification Report\n",
        "print('Classification Report: \\n', classification_report(y_test, y_pred))\n",
        "\n",
        "# Confusion Matrix\n",
        "print('Confusion Matrix: \\n', confusion_matrix(y_test, y_pred))"
      ],
      "metadata": {
        "colab": {
          "base_uri": "https://localhost:8080/"
        },
        "id": "X1OIWt_iykzX",
        "outputId": "cbf79ae9-8a64-4f25-9954-11763b7e422c"
      },
      "execution_count": 155,
      "outputs": [
        {
          "output_type": "stream",
          "name": "stdout",
          "text": [
            "Prediction score: 0.60 \n",
            "\n",
            "Classification Report: \n",
            "               precision    recall  f1-score   support\n",
            "\n",
            "       False       0.62      0.62      0.62       160\n",
            "        True       0.57      0.57      0.57       140\n",
            "\n",
            "    accuracy                           0.60       300\n",
            "   macro avg       0.60      0.60      0.60       300\n",
            "weighted avg       0.60      0.60      0.60       300\n",
            "\n",
            "Confusion Matrix: \n",
            " [[100  60]\n",
            " [ 60  80]]\n"
          ]
        }
      ]
    },
    {
      "cell_type": "markdown",
      "source": [
        "# Summary of Comparative Study Results\n",
        "\n",
        "**Decision Tree**\n",
        "\n",
        "\n",
        "*   Prediction: 0.77\n",
        "*   CV-Accuracy: 0.76\n",
        "\n",
        "**Naive Bayes**\n",
        "\n",
        "*  Prediction: 0.57\n",
        "* CV-Accuracy: 0.6\n",
        "\n",
        "**K-Nearest Neighbors**\n",
        "* Prediction: 0.6\n",
        "* CV-Accuracy: 0.64\n",
        "\n",
        "From the results of the Comparative study, we can see that Decision had the best predictor from the dataset that the model was trained on. Moreover, the DT model performed best when cross-validation was performed on the dataset.\n",
        "\n",
        "Likewise, Naive Bayes Classifier and K-Nearest Neighbors performed similar to each other, in that they both had similar prediction scores and CV accuracies.\n",
        "\n",
        "Therefore, as the best performing learning algorithm, the trained Decision Tree model will be used to test the hold-out test set."
      ],
      "metadata": {
        "id": "JQ0HUgWgOLhk"
      }
    },
    {
      "cell_type": "markdown",
      "source": [
        "# Part B"
      ],
      "metadata": {
        "id": "3-rRzONLATXy"
      }
    },
    {
      "cell_type": "markdown",
      "source": [
        "# Prediction on a hold-out test Set"
      ],
      "metadata": {
        "id": "3BMeFW4iSMF8"
      }
    },
    {
      "cell_type": "code",
      "source": [
        "# Uploading the dataset\n",
        "df_test = pd.read_csv(\"/content/CE802_P2_Test.csv\")\n",
        "\n",
        "# Removing the 'F15' Feature\n",
        "df2 = df_test.drop('F15', axis = 1)\n",
        "\n",
        "df2.shape"
      ],
      "metadata": {
        "colab": {
          "base_uri": "https://localhost:8080/"
        },
        "id": "CExjM95BS4FM",
        "outputId": "4d977072-fbfd-4976-fa98-ef844caa3e6e"
      },
      "execution_count": 156,
      "outputs": [
        {
          "output_type": "execute_result",
          "data": {
            "text/plain": [
              "(1500, 15)"
            ]
          },
          "metadata": {},
          "execution_count": 156
        }
      ]
    },
    {
      "cell_type": "code",
      "source": [
        "# Assigning X and y values, dropping the 'Class' feature as it will not help for prediction on the new test set.\n",
        "X2 = df2.drop('Class', axis = 1).to_numpy()\n",
        "\n",
        "# Scaling the new dataset\n",
        "standardScale = StandardScaler()\n",
        "standardScale.fit_transform(X2)"
      ],
      "metadata": {
        "id": "55wWutA0sOzO",
        "colab": {
          "base_uri": "https://localhost:8080/"
        },
        "outputId": "77b46963-d45e-4a72-c7d1-a4bd718c1c13"
      },
      "execution_count": 157,
      "outputs": [
        {
          "output_type": "execute_result",
          "data": {
            "text/plain": [
              "array([[-0.56548672, -0.68387528, -0.76049404, ..., -0.62212444,\n",
              "        -1.06637481,  1.50751512],\n",
              "       [-0.51811588, -1.15583799, -0.85523426, ..., -0.40451387,\n",
              "        -1.12747188,  0.50273008],\n",
              "       [ 0.46482896, -0.64877061,  0.00604041, ..., -1.61346147,\n",
              "         0.53960551, -0.75918498],\n",
              "       ...,\n",
              "       [-2.11293402, -1.25725147, -0.82939602, ...,  0.03070727,\n",
              "        -0.99654958,  0.48295085],\n",
              "       [-0.4115315 , -0.80479134, -0.863847  , ..., -0.21108225,\n",
              "        -1.0489185 ,  0.72821334],\n",
              "       [ 1.31355643,  0.91533723,  1.34101613, ...,  1.28801278,\n",
              "         0.37958935, -1.20619565]])"
            ]
          },
          "metadata": {},
          "execution_count": 157
        }
      ]
    },
    {
      "cell_type": "code",
      "source": [
        "# Using the already trained DT model on the new test set\n",
        "tree_y_pred2 = tree.predict(X2)\n",
        "\n",
        "# Checking that prediction has worked\n",
        "print(tree_y_pred2)\n",
        "\n",
        "# Converting the test set to a dataframe and adding a 'Class' label to the former test set\n",
        "df3 = pd.DataFrame(df2)\n",
        "df3['Class'] = tree_y_pred2\n",
        "\n",
        "df3"
      ],
      "metadata": {
        "id": "JklOc6SzxVlb",
        "colab": {
          "base_uri": "https://localhost:8080/",
          "height": 441
        },
        "outputId": "717d9421-ff41-47af-ab3f-a4ec09945d2f"
      },
      "execution_count": 158,
      "outputs": [
        {
          "output_type": "stream",
          "name": "stdout",
          "text": [
            "[False False  True ...  True  True  True]\n"
          ]
        },
        {
          "output_type": "execute_result",
          "data": {
            "text/plain": [
              "         F1     F2   F3     F4    F5     F6     F7     F8      F9  F10    F11  \\\n",
              "0     -8.67 -25.56   21  13.14 -7.45   5.55  10.29 -30.98 -476.72    2  -1.17   \n",
              "1     -8.31 -29.19   10  12.16 -7.66   5.22  10.22 -30.98 -422.72    2  -0.96   \n",
              "2     -0.84 -25.29  110  12.34 -3.72  20.70  17.32 -76.98 -778.72   20  11.10   \n",
              "3      0.90 -14.94  120   9.44 -3.44  28.05  15.52 -56.98 -858.72   20   6.33   \n",
              "4     -0.33  -9.60  345  14.26 -3.32  34.80  15.07 -36.98 -458.72   20  12.18   \n",
              "...     ...    ...  ...    ...   ...    ...    ...    ...     ...  ...    ...   \n",
              "1495   2.07 -12.18   55   9.10 -3.70  17.40  15.72 -66.98 -838.72   20   2.58   \n",
              "1496  -8.73 -28.92   20  14.86 -7.81   5.01   9.84 -34.98 -470.72    2  -2.55   \n",
              "1497 -20.43 -29.97   13  13.58 -7.32   1.35  10.05 -30.98 -416.72    2  -4.02   \n",
              "1498  -7.50 -26.49    9  14.08 -7.28   2.79  10.50 -30.98 -414.72    2  -2.28   \n",
              "1499   5.61 -13.26  265  15.62 -2.43  34.05  17.22 -36.98 -458.72   20  14.40   \n",
              "\n",
              "         F12   F13   F14  Class  \n",
              "0      61.66  0.23  3.76  False  \n",
              "1      79.66  0.02  1.22  False  \n",
              "2     -20.34  5.75 -1.97   True  \n",
              "3     229.66  8.05 -1.77  False  \n",
              "4     129.66  9.80 -2.17  False  \n",
              "...      ...   ...   ...    ...  \n",
              "1495   89.66  7.45 -1.42  False  \n",
              "1496   85.66  0.02  1.75   True  \n",
              "1497  115.66  0.47  1.17   True  \n",
              "1498   95.66  0.29  1.79   True  \n",
              "1499  219.66  5.20 -3.10   True  \n",
              "\n",
              "[1500 rows x 15 columns]"
            ],
            "text/html": [
              "\n",
              "  <div id=\"df-bea930d5-b57c-4c10-9aa7-c40762618e0c\">\n",
              "    <div class=\"colab-df-container\">\n",
              "      <div>\n",
              "<style scoped>\n",
              "    .dataframe tbody tr th:only-of-type {\n",
              "        vertical-align: middle;\n",
              "    }\n",
              "\n",
              "    .dataframe tbody tr th {\n",
              "        vertical-align: top;\n",
              "    }\n",
              "\n",
              "    .dataframe thead th {\n",
              "        text-align: right;\n",
              "    }\n",
              "</style>\n",
              "<table border=\"1\" class=\"dataframe\">\n",
              "  <thead>\n",
              "    <tr style=\"text-align: right;\">\n",
              "      <th></th>\n",
              "      <th>F1</th>\n",
              "      <th>F2</th>\n",
              "      <th>F3</th>\n",
              "      <th>F4</th>\n",
              "      <th>F5</th>\n",
              "      <th>F6</th>\n",
              "      <th>F7</th>\n",
              "      <th>F8</th>\n",
              "      <th>F9</th>\n",
              "      <th>F10</th>\n",
              "      <th>F11</th>\n",
              "      <th>F12</th>\n",
              "      <th>F13</th>\n",
              "      <th>F14</th>\n",
              "      <th>Class</th>\n",
              "    </tr>\n",
              "  </thead>\n",
              "  <tbody>\n",
              "    <tr>\n",
              "      <th>0</th>\n",
              "      <td>-8.67</td>\n",
              "      <td>-25.56</td>\n",
              "      <td>21</td>\n",
              "      <td>13.14</td>\n",
              "      <td>-7.45</td>\n",
              "      <td>5.55</td>\n",
              "      <td>10.29</td>\n",
              "      <td>-30.98</td>\n",
              "      <td>-476.72</td>\n",
              "      <td>2</td>\n",
              "      <td>-1.17</td>\n",
              "      <td>61.66</td>\n",
              "      <td>0.23</td>\n",
              "      <td>3.76</td>\n",
              "      <td>False</td>\n",
              "    </tr>\n",
              "    <tr>\n",
              "      <th>1</th>\n",
              "      <td>-8.31</td>\n",
              "      <td>-29.19</td>\n",
              "      <td>10</td>\n",
              "      <td>12.16</td>\n",
              "      <td>-7.66</td>\n",
              "      <td>5.22</td>\n",
              "      <td>10.22</td>\n",
              "      <td>-30.98</td>\n",
              "      <td>-422.72</td>\n",
              "      <td>2</td>\n",
              "      <td>-0.96</td>\n",
              "      <td>79.66</td>\n",
              "      <td>0.02</td>\n",
              "      <td>1.22</td>\n",
              "      <td>False</td>\n",
              "    </tr>\n",
              "    <tr>\n",
              "      <th>2</th>\n",
              "      <td>-0.84</td>\n",
              "      <td>-25.29</td>\n",
              "      <td>110</td>\n",
              "      <td>12.34</td>\n",
              "      <td>-3.72</td>\n",
              "      <td>20.70</td>\n",
              "      <td>17.32</td>\n",
              "      <td>-76.98</td>\n",
              "      <td>-778.72</td>\n",
              "      <td>20</td>\n",
              "      <td>11.10</td>\n",
              "      <td>-20.34</td>\n",
              "      <td>5.75</td>\n",
              "      <td>-1.97</td>\n",
              "      <td>True</td>\n",
              "    </tr>\n",
              "    <tr>\n",
              "      <th>3</th>\n",
              "      <td>0.90</td>\n",
              "      <td>-14.94</td>\n",
              "      <td>120</td>\n",
              "      <td>9.44</td>\n",
              "      <td>-3.44</td>\n",
              "      <td>28.05</td>\n",
              "      <td>15.52</td>\n",
              "      <td>-56.98</td>\n",
              "      <td>-858.72</td>\n",
              "      <td>20</td>\n",
              "      <td>6.33</td>\n",
              "      <td>229.66</td>\n",
              "      <td>8.05</td>\n",
              "      <td>-1.77</td>\n",
              "      <td>False</td>\n",
              "    </tr>\n",
              "    <tr>\n",
              "      <th>4</th>\n",
              "      <td>-0.33</td>\n",
              "      <td>-9.60</td>\n",
              "      <td>345</td>\n",
              "      <td>14.26</td>\n",
              "      <td>-3.32</td>\n",
              "      <td>34.80</td>\n",
              "      <td>15.07</td>\n",
              "      <td>-36.98</td>\n",
              "      <td>-458.72</td>\n",
              "      <td>20</td>\n",
              "      <td>12.18</td>\n",
              "      <td>129.66</td>\n",
              "      <td>9.80</td>\n",
              "      <td>-2.17</td>\n",
              "      <td>False</td>\n",
              "    </tr>\n",
              "    <tr>\n",
              "      <th>...</th>\n",
              "      <td>...</td>\n",
              "      <td>...</td>\n",
              "      <td>...</td>\n",
              "      <td>...</td>\n",
              "      <td>...</td>\n",
              "      <td>...</td>\n",
              "      <td>...</td>\n",
              "      <td>...</td>\n",
              "      <td>...</td>\n",
              "      <td>...</td>\n",
              "      <td>...</td>\n",
              "      <td>...</td>\n",
              "      <td>...</td>\n",
              "      <td>...</td>\n",
              "      <td>...</td>\n",
              "    </tr>\n",
              "    <tr>\n",
              "      <th>1495</th>\n",
              "      <td>2.07</td>\n",
              "      <td>-12.18</td>\n",
              "      <td>55</td>\n",
              "      <td>9.10</td>\n",
              "      <td>-3.70</td>\n",
              "      <td>17.40</td>\n",
              "      <td>15.72</td>\n",
              "      <td>-66.98</td>\n",
              "      <td>-838.72</td>\n",
              "      <td>20</td>\n",
              "      <td>2.58</td>\n",
              "      <td>89.66</td>\n",
              "      <td>7.45</td>\n",
              "      <td>-1.42</td>\n",
              "      <td>False</td>\n",
              "    </tr>\n",
              "    <tr>\n",
              "      <th>1496</th>\n",
              "      <td>-8.73</td>\n",
              "      <td>-28.92</td>\n",
              "      <td>20</td>\n",
              "      <td>14.86</td>\n",
              "      <td>-7.81</td>\n",
              "      <td>5.01</td>\n",
              "      <td>9.84</td>\n",
              "      <td>-34.98</td>\n",
              "      <td>-470.72</td>\n",
              "      <td>2</td>\n",
              "      <td>-2.55</td>\n",
              "      <td>85.66</td>\n",
              "      <td>0.02</td>\n",
              "      <td>1.75</td>\n",
              "      <td>True</td>\n",
              "    </tr>\n",
              "    <tr>\n",
              "      <th>1497</th>\n",
              "      <td>-20.43</td>\n",
              "      <td>-29.97</td>\n",
              "      <td>13</td>\n",
              "      <td>13.58</td>\n",
              "      <td>-7.32</td>\n",
              "      <td>1.35</td>\n",
              "      <td>10.05</td>\n",
              "      <td>-30.98</td>\n",
              "      <td>-416.72</td>\n",
              "      <td>2</td>\n",
              "      <td>-4.02</td>\n",
              "      <td>115.66</td>\n",
              "      <td>0.47</td>\n",
              "      <td>1.17</td>\n",
              "      <td>True</td>\n",
              "    </tr>\n",
              "    <tr>\n",
              "      <th>1498</th>\n",
              "      <td>-7.50</td>\n",
              "      <td>-26.49</td>\n",
              "      <td>9</td>\n",
              "      <td>14.08</td>\n",
              "      <td>-7.28</td>\n",
              "      <td>2.79</td>\n",
              "      <td>10.50</td>\n",
              "      <td>-30.98</td>\n",
              "      <td>-414.72</td>\n",
              "      <td>2</td>\n",
              "      <td>-2.28</td>\n",
              "      <td>95.66</td>\n",
              "      <td>0.29</td>\n",
              "      <td>1.79</td>\n",
              "      <td>True</td>\n",
              "    </tr>\n",
              "    <tr>\n",
              "      <th>1499</th>\n",
              "      <td>5.61</td>\n",
              "      <td>-13.26</td>\n",
              "      <td>265</td>\n",
              "      <td>15.62</td>\n",
              "      <td>-2.43</td>\n",
              "      <td>34.05</td>\n",
              "      <td>17.22</td>\n",
              "      <td>-36.98</td>\n",
              "      <td>-458.72</td>\n",
              "      <td>20</td>\n",
              "      <td>14.40</td>\n",
              "      <td>219.66</td>\n",
              "      <td>5.20</td>\n",
              "      <td>-3.10</td>\n",
              "      <td>True</td>\n",
              "    </tr>\n",
              "  </tbody>\n",
              "</table>\n",
              "<p>1500 rows × 15 columns</p>\n",
              "</div>\n",
              "      <button class=\"colab-df-convert\" onclick=\"convertToInteractive('df-bea930d5-b57c-4c10-9aa7-c40762618e0c')\"\n",
              "              title=\"Convert this dataframe to an interactive table.\"\n",
              "              style=\"display:none;\">\n",
              "        \n",
              "  <svg xmlns=\"http://www.w3.org/2000/svg\" height=\"24px\"viewBox=\"0 0 24 24\"\n",
              "       width=\"24px\">\n",
              "    <path d=\"M0 0h24v24H0V0z\" fill=\"none\"/>\n",
              "    <path d=\"M18.56 5.44l.94 2.06.94-2.06 2.06-.94-2.06-.94-.94-2.06-.94 2.06-2.06.94zm-11 1L8.5 8.5l.94-2.06 2.06-.94-2.06-.94L8.5 2.5l-.94 2.06-2.06.94zm10 10l.94 2.06.94-2.06 2.06-.94-2.06-.94-.94-2.06-.94 2.06-2.06.94z\"/><path d=\"M17.41 7.96l-1.37-1.37c-.4-.4-.92-.59-1.43-.59-.52 0-1.04.2-1.43.59L10.3 9.45l-7.72 7.72c-.78.78-.78 2.05 0 2.83L4 21.41c.39.39.9.59 1.41.59.51 0 1.02-.2 1.41-.59l7.78-7.78 2.81-2.81c.8-.78.8-2.07 0-2.86zM5.41 20L4 18.59l7.72-7.72 1.47 1.35L5.41 20z\"/>\n",
              "  </svg>\n",
              "      </button>\n",
              "      \n",
              "  <style>\n",
              "    .colab-df-container {\n",
              "      display:flex;\n",
              "      flex-wrap:wrap;\n",
              "      gap: 12px;\n",
              "    }\n",
              "\n",
              "    .colab-df-convert {\n",
              "      background-color: #E8F0FE;\n",
              "      border: none;\n",
              "      border-radius: 50%;\n",
              "      cursor: pointer;\n",
              "      display: none;\n",
              "      fill: #1967D2;\n",
              "      height: 32px;\n",
              "      padding: 0 0 0 0;\n",
              "      width: 32px;\n",
              "    }\n",
              "\n",
              "    .colab-df-convert:hover {\n",
              "      background-color: #E2EBFA;\n",
              "      box-shadow: 0px 1px 2px rgba(60, 64, 67, 0.3), 0px 1px 3px 1px rgba(60, 64, 67, 0.15);\n",
              "      fill: #174EA6;\n",
              "    }\n",
              "\n",
              "    [theme=dark] .colab-df-convert {\n",
              "      background-color: #3B4455;\n",
              "      fill: #D2E3FC;\n",
              "    }\n",
              "\n",
              "    [theme=dark] .colab-df-convert:hover {\n",
              "      background-color: #434B5C;\n",
              "      box-shadow: 0px 1px 3px 1px rgba(0, 0, 0, 0.15);\n",
              "      filter: drop-shadow(0px 1px 2px rgba(0, 0, 0, 0.3));\n",
              "      fill: #FFFFFF;\n",
              "    }\n",
              "  </style>\n",
              "\n",
              "      <script>\n",
              "        const buttonEl =\n",
              "          document.querySelector('#df-bea930d5-b57c-4c10-9aa7-c40762618e0c button.colab-df-convert');\n",
              "        buttonEl.style.display =\n",
              "          google.colab.kernel.accessAllowed ? 'block' : 'none';\n",
              "\n",
              "        async function convertToInteractive(key) {\n",
              "          const element = document.querySelector('#df-bea930d5-b57c-4c10-9aa7-c40762618e0c');\n",
              "          const dataTable =\n",
              "            await google.colab.kernel.invokeFunction('convertToInteractive',\n",
              "                                                     [key], {});\n",
              "          if (!dataTable) return;\n",
              "\n",
              "          const docLinkHtml = 'Like what you see? Visit the ' +\n",
              "            '<a target=\"_blank\" href=https://colab.research.google.com/notebooks/data_table.ipynb>data table notebook</a>'\n",
              "            + ' to learn more about interactive tables.';\n",
              "          element.innerHTML = '';\n",
              "          dataTable['output_type'] = 'display_data';\n",
              "          await google.colab.output.renderOutput(dataTable, element);\n",
              "          const docLink = document.createElement('div');\n",
              "          docLink.innerHTML = docLinkHtml;\n",
              "          element.appendChild(docLink);\n",
              "        }\n",
              "      </script>\n",
              "    </div>\n",
              "  </div>\n",
              "  "
            ]
          },
          "metadata": {},
          "execution_count": 158
        }
      ]
    },
    {
      "cell_type": "code",
      "source": [
        "# Creating new CSV\n",
        "df3.to_csv('CE802_P2_Test2.csv')"
      ],
      "metadata": {
        "id": "wp-f4vwu0ZtC"
      },
      "execution_count": 159,
      "outputs": []
    }
  ]
}